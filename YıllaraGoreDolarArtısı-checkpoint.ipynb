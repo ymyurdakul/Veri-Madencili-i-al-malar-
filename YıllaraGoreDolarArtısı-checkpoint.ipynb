{
 "cells": [
  {
   "cell_type": "code",
   "execution_count": 20,
   "metadata": {},
   "outputs": [
    {
     "data": {
      "image/png": "[encoded data removed]",
      "text/plain": [
       "<Figure size 432x288 with 1 Axes>"
      ]
     },
     "metadata": {
      "needs_background": "light"
     },
     "output_type": "display_data"
    }
   ],
   "source": [
    "from matplotlib import pyplot as plt\n",
    "import numpy as np\n",
    "dolar_kuru=[1.70,1.90,2.10,2.30]\n",
    "yıllar=np.array([2012,2013,2014,2015])\n",
    "asgari=[850,900,1000,1200]\n",
    "fig,ax=plt.subplots()\n",
    "ax.bar(yıllar,dolar_kuru)\n",
    "ax.locator_params(axis=\"x\",integer=True)"
   ]
  }
 ],
 "metadata": {
  "kernelspec": {
   "display_name": "Python 3",
   "language": "python",
   "name": "python3"
  },
  "language_info": {
   "codemirror_mode": {
    "name": "ipython",
    "version": 3
   },
   "file_extension": ".py",
   "mimetype": "text/x-python",
   "name": "python",
   "nbconvert_exporter": "python",
   "pygments_lexer": "ipython3",
   "version": "3.7.3"
  }
 },
 "nbformat": 4,
 "nbformat_minor": 2
}
